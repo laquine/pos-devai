{
  "nbformat": 4,
  "nbformat_minor": 0,
  "metadata": {
    "colab": {
      "provenance": [],
      "authorship_tag": "ABX9TyPYN+WlNwwGypslJHN76Z8/"
    },
    "kernelspec": {
      "name": "python3",
      "display_name": "Python 3"
    },
    "language_info": {
      "name": "python"
    }
  },
  "cells": [
    {
      "cell_type": "markdown",
      "source": [
        "# Utilizando Ensembles no dataset da competição Titanic do Kaggle"
      ],
      "metadata": {
        "id": "wcwXHWgBVhNV"
      }
    },
    {
      "cell_type": "markdown",
      "source": [
        "##Pré-processamento"
      ],
      "metadata": {
        "id": "VTuLiRTvFzWX"
      }
    },
    {
      "cell_type": "code",
      "execution_count": 61,
      "metadata": {
        "colab": {
          "base_uri": "https://localhost:8080/"
        },
        "id": "Wo3REKTXDlMu",
        "outputId": "3767fc94-c43f-4385-9f4d-a23b322eabbc"
      },
      "outputs": [
        {
          "output_type": "stream",
          "name": "stdout",
          "text": [
            "Drive already mounted at /content/drive; to attempt to forcibly remount, call drive.mount(\"/content/drive\", force_remount=True).\n"
          ]
        }
      ],
      "source": [
        "from google.colab import drive\n",
        "drive.mount('/content/drive')"
      ]
    },
    {
      "cell_type": "code",
      "source": [
        "#lendo os dados de treinamento e exibindo os tipos das características\n",
        "import pandas as pd\n",
        "data = pd.read_csv(\"/content/drive/MyDrive/datasets/train.csv\")\n",
        "data.dtypes"
      ],
      "metadata": {
        "colab": {
          "base_uri": "https://localhost:8080/"
        },
        "id": "7D6vYJNbEGbu",
        "outputId": "0b1ed5d7-d45b-4587-9ae4-a6352fdeca4b"
      },
      "execution_count": 62,
      "outputs": [
        {
          "output_type": "execute_result",
          "data": {
            "text/plain": [
              "PassengerId      int64\n",
              "Survived         int64\n",
              "Pclass           int64\n",
              "Name            object\n",
              "Sex             object\n",
              "Age            float64\n",
              "SibSp            int64\n",
              "Parch            int64\n",
              "Ticket          object\n",
              "Fare           float64\n",
              "Cabin           object\n",
              "Embarked        object\n",
              "dtype: object"
            ]
          },
          "metadata": {},
          "execution_count": 62
        }
      ]
    },
    {
      "cell_type": "code",
      "source": [
        "#isolando o target, a coluna que devemos fazer a predição\n",
        "y = data['Survived']\n",
        "y"
      ],
      "metadata": {
        "colab": {
          "base_uri": "https://localhost:8080/"
        },
        "id": "VcGPqrY7EJif",
        "outputId": "0949d3be-1cbe-4895-b845-8264ed9db606"
      },
      "execution_count": 63,
      "outputs": [
        {
          "output_type": "execute_result",
          "data": {
            "text/plain": [
              "0      0\n",
              "1      1\n",
              "2      1\n",
              "3      1\n",
              "4      0\n",
              "      ..\n",
              "886    0\n",
              "887    1\n",
              "888    0\n",
              "889    1\n",
              "890    0\n",
              "Name: Survived, Length: 891, dtype: int64"
            ]
          },
          "metadata": {},
          "execution_count": 63
        }
      ]
    },
    {
      "cell_type": "code",
      "source": [
        "#removendo o target do dataset de treinamento\n",
        "X = data.drop('Survived', axis=1)\n",
        "X.columns"
      ],
      "metadata": {
        "colab": {
          "base_uri": "https://localhost:8080/"
        },
        "id": "kyfUliiSEMb5",
        "outputId": "e0d659b2-a6b0-4447-9076-db2486ec6258"
      },
      "execution_count": 64,
      "outputs": [
        {
          "output_type": "execute_result",
          "data": {
            "text/plain": [
              "Index(['PassengerId', 'Pclass', 'Name', 'Sex', 'Age', 'SibSp', 'Parch',\n",
              "       'Ticket', 'Fare', 'Cabin', 'Embarked'],\n",
              "      dtype='object')"
            ]
          },
          "metadata": {},
          "execution_count": 64
        }
      ]
    },
    {
      "cell_type": "code",
      "source": [
        "#criação de classe que removerá as características indesejadas para o modeloo\n",
        "from sklearn.base import BaseEstimator, TransformerMixin\n",
        "\n",
        "class AtributosDesejados(BaseEstimator, TransformerMixin):\n",
        "  def fit(self, X, y=None):\n",
        "    self.colunasIndesejadas_ = ['PassengerId', 'Name', 'Ticket', 'Cabin']\n",
        "    return self\n",
        "  def transform(self, X, y=None):\n",
        "    return X.drop(self.colunasIndesejadas_, axis=1)\n",
        "\n",
        "atributosDesejados = AtributosDesejados()\n",
        "Xdrop = atributosDesejados.fit_transform(X)\n",
        "Xdrop.columns"
      ],
      "metadata": {
        "colab": {
          "base_uri": "https://localhost:8080/"
        },
        "id": "QoCl5VqoF8dU",
        "outputId": "d4dff75b-9454-43d8-d402-031882026544"
      },
      "execution_count": 65,
      "outputs": [
        {
          "output_type": "execute_result",
          "data": {
            "text/plain": [
              "Index(['Pclass', 'Sex', 'Age', 'SibSp', 'Parch', 'Fare', 'Embarked'], dtype='object')"
            ]
          },
          "metadata": {},
          "execution_count": 65
        }
      ]
    },
    {
      "cell_type": "code",
      "source": [
        "#criação de classe que retornará dataset com as colunas numéricas\n",
        "from sklearn.base import BaseEstimator, TransformerMixin\n",
        "\n",
        "class AtributosNumericos(BaseEstimator, TransformerMixin):\n",
        "  def fit(self, X, y=None):\n",
        "    self.colunasNumericas = X.select_dtypes(include='number').columns\n",
        "    return self\n",
        "  def transform(self, X, y=None):\n",
        "    return X[self.colunasNumericas]\n",
        "\n",
        "atributosNumericos = AtributosNumericos()\n",
        "Xnum = atributosNumericos.fit_transform(Xdrop)\n",
        "Xnum.columns"
      ],
      "metadata": {
        "colab": {
          "base_uri": "https://localhost:8080/"
        },
        "id": "bXiRvGcrGAko",
        "outputId": "5a4559c6-e72f-45ee-ce20-4cdbe1ae0ba7"
      },
      "execution_count": 66,
      "outputs": [
        {
          "output_type": "execute_result",
          "data": {
            "text/plain": [
              "Index(['Pclass', 'Age', 'SibSp', 'Parch', 'Fare'], dtype='object')"
            ]
          },
          "metadata": {},
          "execution_count": 66
        }
      ]
    },
    {
      "cell_type": "code",
      "source": [
        "#criando pipeline para pré-processamento das características numéricas\n",
        "from sklearn.pipeline import Pipeline\n",
        "from sklearn.impute import SimpleImputer\n",
        "from sklearn.preprocessing import StandardScaler\n",
        "\n",
        "pipenum = Pipeline([\n",
        "    ('atributos_numericos', AtributosNumericos()),\n",
        "    ('imputer', SimpleImputer(strategy=\"median\")),\n",
        "    ('scaler', StandardScaler())\n",
        "])\n",
        "\n",
        "XnumLimpo = pipenum.fit_transform(Xdrop)\n",
        "XnumLimpo"
      ],
      "metadata": {
        "colab": {
          "base_uri": "https://localhost:8080/"
        },
        "id": "PiP-rdN8GDQ6",
        "outputId": "f3741e65-0672-4182-edea-eb718b24559c"
      },
      "execution_count": 67,
      "outputs": [
        {
          "output_type": "execute_result",
          "data": {
            "text/plain": [
              "array([[ 0.82737724, -0.56573646,  0.43279337, -0.47367361, -0.50244517],\n",
              "       [-1.56610693,  0.66386103,  0.43279337, -0.47367361,  0.78684529],\n",
              "       [ 0.82737724, -0.25833709, -0.4745452 , -0.47367361, -0.48885426],\n",
              "       ...,\n",
              "       [ 0.82737724, -0.1046374 ,  0.43279337,  2.00893337, -0.17626324],\n",
              "       [-1.56610693, -0.25833709, -0.4745452 , -0.47367361, -0.04438104],\n",
              "       [ 0.82737724,  0.20276197, -0.4745452 , -0.47367361, -0.49237783]])"
            ]
          },
          "metadata": {},
          "execution_count": 67
        }
      ]
    },
    {
      "cell_type": "code",
      "source": [
        "#criação de classe que retornará dataset com as colunas categóricas\n",
        "from sklearn.base import BaseEstimator, TransformerMixin\n",
        "\n",
        "class AtributosCategoricos(BaseEstimator, TransformerMixin):\n",
        "  def fit(self, X, y=None):\n",
        "    self.colunasCategoricas = X.select_dtypes(include='object').columns\n",
        "    return self\n",
        "  def transform(self, X, y=None):\n",
        "    return X[self.colunasCategoricas]\n",
        "\n",
        "atributosCategoricos = AtributosCategoricos()\n",
        "Xcat = atributosCategoricos.fit_transform(Xdrop)\n",
        "Xcat.columns"
      ],
      "metadata": {
        "colab": {
          "base_uri": "https://localhost:8080/"
        },
        "id": "5eXq76DOF9BZ",
        "outputId": "d8f81175-ad61-49fd-bbf8-d77510ac4bd7"
      },
      "execution_count": 68,
      "outputs": [
        {
          "output_type": "execute_result",
          "data": {
            "text/plain": [
              "Index(['Sex', 'Embarked'], dtype='object')"
            ]
          },
          "metadata": {},
          "execution_count": 68
        }
      ]
    },
    {
      "cell_type": "code",
      "source": [
        "#criando pipeline para pré-processamento das características categóricas\n",
        "from sklearn.pipeline import Pipeline\n",
        "from sklearn.impute import SimpleImputer\n",
        "from sklearn.preprocessing import OneHotEncoder\n",
        "\n",
        "pipecat = Pipeline([\n",
        "    ('atributos_categoricos', AtributosCategoricos()),\n",
        "    ('imputer', SimpleImputer(strategy='most_frequent')),\n",
        "    ('encoder', OneHotEncoder())\n",
        "])\n",
        "\n",
        "XcatLimpo = pipecat.fit_transform(Xdrop)\n",
        "XcatLimpo.toarray()"
      ],
      "metadata": {
        "colab": {
          "base_uri": "https://localhost:8080/"
        },
        "id": "a0jDkrp2GKHd",
        "outputId": "df618dca-ce59-4ead-975f-697b917c4d3f"
      },
      "execution_count": 69,
      "outputs": [
        {
          "output_type": "execute_result",
          "data": {
            "text/plain": [
              "array([[0., 1., 0., 0., 1.],\n",
              "       [1., 0., 1., 0., 0.],\n",
              "       [1., 0., 0., 0., 1.],\n",
              "       ...,\n",
              "       [1., 0., 0., 0., 1.],\n",
              "       [0., 1., 1., 0., 0.],\n",
              "       [0., 1., 0., 1., 0.]])"
            ]
          },
          "metadata": {},
          "execution_count": 69
        }
      ]
    },
    {
      "cell_type": "code",
      "source": [
        "#criando pipeline que concatena as características numéricas e categóorias tratadas\n",
        "from sklearn.pipeline import FeatureUnion\n",
        "\n",
        "unecaracteristicas = FeatureUnion([\n",
        "    ('pipenum', pipenum),\n",
        "    ('pipecat', pipecat)\n",
        "])\n",
        "\n",
        "Xtratado = unecaracteristicas.fit_transform(Xdrop)\n",
        "Xtratado.toarray()"
      ],
      "metadata": {
        "colab": {
          "base_uri": "https://localhost:8080/"
        },
        "id": "X56C-KEcGNHh",
        "outputId": "fb71f127-93dc-43e0-ccfd-0d3823a001c3"
      },
      "execution_count": 70,
      "outputs": [
        {
          "output_type": "execute_result",
          "data": {
            "text/plain": [
              "array([[ 0.82737724, -0.56573646,  0.43279337, ...,  0.        ,\n",
              "         0.        ,  1.        ],\n",
              "       [-1.56610693,  0.66386103,  0.43279337, ...,  1.        ,\n",
              "         0.        ,  0.        ],\n",
              "       [ 0.82737724, -0.25833709, -0.4745452 , ...,  0.        ,\n",
              "         0.        ,  1.        ],\n",
              "       ...,\n",
              "       [ 0.82737724, -0.1046374 ,  0.43279337, ...,  0.        ,\n",
              "         0.        ,  1.        ],\n",
              "       [-1.56610693, -0.25833709, -0.4745452 , ...,  1.        ,\n",
              "         0.        ,  0.        ],\n",
              "       [ 0.82737724,  0.20276197, -0.4745452 , ...,  0.        ,\n",
              "         1.        ,  0.        ]])"
            ]
          },
          "metadata": {},
          "execution_count": 70
        }
      ]
    },
    {
      "cell_type": "code",
      "source": [
        "#cria o pipeline de pré-processamento\n",
        "from sklearn.pipeline import Pipeline\n",
        "\n",
        "preproc = Pipeline([\n",
        "    ('atributos_desejados', AtributosDesejados()),\n",
        "    ('unecaracteristicas', unecaracteristicas)\n",
        "])\n",
        "\n",
        "Xtratado = preproc.fit_transform(X)\n",
        "Xtratado.toarray()"
      ],
      "metadata": {
        "colab": {
          "base_uri": "https://localhost:8080/"
        },
        "id": "wljkTRsRGPzj",
        "outputId": "a17e15ee-e62a-42a1-b8c5-8d7547691b6f"
      },
      "execution_count": 71,
      "outputs": [
        {
          "output_type": "execute_result",
          "data": {
            "text/plain": [
              "array([[ 0.82737724, -0.56573646,  0.43279337, ...,  0.        ,\n",
              "         0.        ,  1.        ],\n",
              "       [-1.56610693,  0.66386103,  0.43279337, ...,  1.        ,\n",
              "         0.        ,  0.        ],\n",
              "       [ 0.82737724, -0.25833709, -0.4745452 , ...,  0.        ,\n",
              "         0.        ,  1.        ],\n",
              "       ...,\n",
              "       [ 0.82737724, -0.1046374 ,  0.43279337, ...,  0.        ,\n",
              "         0.        ,  1.        ],\n",
              "       [-1.56610693, -0.25833709, -0.4745452 , ...,  1.        ,\n",
              "         0.        ,  0.        ],\n",
              "       [ 0.82737724,  0.20276197, -0.4745452 , ...,  0.        ,\n",
              "         1.        ,  0.        ]])"
            ]
          },
          "metadata": {},
          "execution_count": 71
        }
      ]
    },
    {
      "cell_type": "markdown",
      "source": [
        "# Ensembles"
      ],
      "metadata": {
        "id": "i6ThwqDjGdXf"
      }
    },
    {
      "cell_type": "code",
      "source": [
        "#carregando os dados de treinamento e teste\n",
        "import pandas as pd\n",
        "test = pd.read_csv('/content/drive/MyDrive/datasets/test.csv')"
      ],
      "metadata": {
        "id": "3PM-7dM5P0aE"
      },
      "execution_count": 72,
      "outputs": []
    },
    {
      "cell_type": "markdown",
      "source": [
        "## RandomForest"
      ],
      "metadata": {
        "id": "CIT74EUoMPEt"
      }
    },
    {
      "cell_type": "code",
      "source": [
        "from sklearn.ensemble import RandomForestClassifier\n",
        "from sklearn.metrics import accuracy_score\n",
        "\n",
        "pipetotal = Pipeline([\n",
        "    ('preproc', preproc),\n",
        "    ('rfc', RandomForestClassifier())\n",
        "])\n",
        "\n",
        "pipetotal.fit(X, y)\n",
        "ypred = pipetotal.predict(X)\n",
        "accuracy_score(y, ypred)"
      ],
      "metadata": {
        "colab": {
          "base_uri": "https://localhost:8080/"
        },
        "id": "eojejgoRGf3a",
        "outputId": "362df75d-87b9-4386-d539-d1a4d1f626df"
      },
      "execution_count": 73,
      "outputs": [
        {
          "output_type": "execute_result",
          "data": {
            "text/plain": [
              "0.9797979797979798"
            ]
          },
          "metadata": {},
          "execution_count": 73
        }
      ]
    },
    {
      "cell_type": "code",
      "source": [
        "#avaliação do modelo com validação cruzada\n",
        "import numpy as np\n",
        "from sklearn.model_selection import cross_validate\n",
        "\n",
        "scores = cross_validate(pipetotal, X, y)\n",
        "scores, np.mean(scores['test_score'])"
      ],
      "metadata": {
        "colab": {
          "base_uri": "https://localhost:8080/"
        },
        "id": "IaywwdY-Ibaw",
        "outputId": "a183cac7-dfc9-4bc4-b830-2b95e62dea4d"
      },
      "execution_count": 74,
      "outputs": [
        {
          "output_type": "execute_result",
          "data": {
            "text/plain": [
              "({'fit_time': array([0.31201053, 0.2965734 , 0.29866648, 0.3118751 , 0.29786706]),\n",
              "  'score_time': array([0.017519  , 0.01516223, 0.0156045 , 0.01555896, 0.01569629]),\n",
              "  'test_score': array([0.7877095 , 0.80898876, 0.83146067, 0.7752809 , 0.84831461])},\n",
              " 0.8103508882053857)"
            ]
          },
          "metadata": {},
          "execution_count": 74
        }
      ]
    },
    {
      "cell_type": "code",
      "source": [
        "#realiza a predição e cria arquivo para submissão ao kaggle\n",
        "pipetotal.fit(X, y)\n",
        "ypred = pipetotal.predict(test)\n",
        "\n",
        "submission = pd.read_csv('/content/drive/MyDrive/datasets/gender_submission.csv')\n",
        "submission['Survived'] = ypred\n",
        "submission.to_csv('rfc_submission.csv', index=False)"
      ],
      "metadata": {
        "id": "gMi0ZHvBIh5S"
      },
      "execution_count": 75,
      "outputs": []
    },
    {
      "cell_type": "markdown",
      "source": [
        "Print da submissão do arquivo ao Kaggle"
      ],
      "metadata": {
        "id": "Ww7O5MU-MdGm"
      }
    },
    {
      "cell_type": "markdown",
      "source": [
        "![image.png](data:image/png;base64,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)"
      ],
      "metadata": {
        "id": "PVRlT6VwM9CU"
      }
    },
    {
      "cell_type": "markdown",
      "source": [
        "## BaggingClassifier"
      ],
      "metadata": {
        "id": "O4Wfj525PqOw"
      }
    },
    {
      "cell_type": "code",
      "source": [
        "from sklearn.ensemble import BaggingClassifier\n",
        "from sklearn.tree import DecisionTreeClassifier\n",
        "from sklearn.metrics import accuracy_score\n",
        "\n",
        "pipetotal = Pipeline([\n",
        "    ('preproc', preproc),\n",
        "    ('bgc', BaggingClassifier(DecisionTreeClassifier(splitter='random'),\n",
        "                              n_estimators=500, max_features=0.8, random_state=42))\n",
        "])\n",
        "\n",
        "pipetotal.fit(X, y)\n",
        "ypred = pipetotal.predict(X)\n",
        "accuracy_score(y, ypred)"
      ],
      "metadata": {
        "colab": {
          "base_uri": "https://localhost:8080/"
        },
        "id": "_HrMsp9FPwjj",
        "outputId": "25fdd085-1ee4-4d42-c64e-cd94c8ee60df"
      },
      "execution_count": 76,
      "outputs": [
        {
          "output_type": "execute_result",
          "data": {
            "text/plain": [
              "0.978675645342312"
            ]
          },
          "metadata": {},
          "execution_count": 76
        }
      ]
    },
    {
      "cell_type": "code",
      "source": [
        "#avaliação do modelo com validação cruzada\n",
        "import numpy as np\n",
        "from sklearn.model_selection import cross_validate\n",
        "\n",
        "scores = cross_validate(pipetotal, X, y)\n",
        "scores, np.mean(scores['test_score'])"
      ],
      "metadata": {
        "colab": {
          "base_uri": "https://localhost:8080/"
        },
        "id": "RcjaSOptQQkV",
        "outputId": "95b6b6c4-d0f4-494e-ad9b-01332dfecc0b"
      },
      "execution_count": 77,
      "outputs": [
        {
          "output_type": "execute_result",
          "data": {
            "text/plain": [
              "({'fit_time': array([3.1002903 , 5.45403481, 2.9548111 , 2.04299569, 2.07207298]),\n",
              "  'score_time': array([0.56249404, 0.34372449, 0.2446785 , 0.24023676, 0.25785661]),\n",
              "  'test_score': array([0.81005587, 0.82022472, 0.83707865, 0.78089888, 0.84831461])},\n",
              " 0.8193145439708743)"
            ]
          },
          "metadata": {},
          "execution_count": 77
        }
      ]
    },
    {
      "cell_type": "code",
      "source": [
        "#realiza a predição e cria arquivo para submissão ao kaggle\n",
        "pipetotal.fit(X, y)\n",
        "ypred = pipetotal.predict(test)\n",
        "\n",
        "submission = pd.read_csv('/content/drive/MyDrive/datasets/gender_submission.csv')\n",
        "submission['Survived'] = ypred\n",
        "submission.to_csv('bagging_submission.csv', index=False)"
      ],
      "metadata": {
        "id": "wA30BuS8RMXK"
      },
      "execution_count": 78,
      "outputs": []
    },
    {
      "cell_type": "markdown",
      "source": [
        "Print da submissão do arquivo ao Kaggle"
      ],
      "metadata": {
        "id": "8O58gptCRWKy"
      }
    },
    {
      "cell_type": "markdown",
      "source": [
        "![image.png](data:image/png;base64,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)"
      ],
      "metadata": {
        "id": "6GSmAV7FRWkF"
      }
    },
    {
      "cell_type": "markdown",
      "source": [
        "## AdaBoostClassifier"
      ],
      "metadata": {
        "id": "LxEy1zEBTHJc"
      }
    },
    {
      "cell_type": "code",
      "source": [
        "from sklearn.ensemble import AdaBoostClassifier\n",
        "from sklearn.metrics import accuracy_score\n",
        "\n",
        "pipetotal = Pipeline([\n",
        "    ('preproc', preproc),\n",
        "    ('abc', AdaBoostClassifier(DecisionTreeClassifier(max_depth=25, splitter='random'),\n",
        "                            learning_rate=0.15, random_state=42))\n",
        "])\n",
        "\n",
        "pipetotal.fit(X, y)\n",
        "ypred = pipetotal.predict(X)\n",
        "accuracy_score(y, ypred)"
      ],
      "metadata": {
        "colab": {
          "base_uri": "https://localhost:8080/"
        },
        "id": "O6D7_CZtSPGB",
        "outputId": "c668f2fc-80cc-4504-d55b-a44806c97df7"
      },
      "execution_count": 79,
      "outputs": [
        {
          "output_type": "execute_result",
          "data": {
            "text/plain": [
              "0.9797979797979798"
            ]
          },
          "metadata": {},
          "execution_count": 79
        }
      ]
    },
    {
      "cell_type": "code",
      "source": [
        "#avaliação do modelo com validação cruzada\n",
        "import numpy as np\n",
        "from sklearn.model_selection import cross_validate\n",
        "\n",
        "scores = cross_validate(pipetotal, X, y)\n",
        "scores, np.mean(scores['test_score'])"
      ],
      "metadata": {
        "colab": {
          "base_uri": "https://localhost:8080/"
        },
        "id": "ZhG8Ur4JSR-5",
        "outputId": "5ba354c3-001e-488f-cb39-02008de0f5ec"
      },
      "execution_count": 80,
      "outputs": [
        {
          "output_type": "execute_result",
          "data": {
            "text/plain": [
              "({'fit_time': array([0.28578925, 0.27642488, 0.27368379, 0.27630997, 0.30948925]),\n",
              "  'score_time': array([0.02752161, 0.03288794, 0.02908778, 0.02682948, 0.0298202 ]),\n",
              "  'test_score': array([0.77653631, 0.76404494, 0.8258427 , 0.7752809 , 0.8258427 ])},\n",
              " 0.7935095097608437)"
            ]
          },
          "metadata": {},
          "execution_count": 80
        }
      ]
    },
    {
      "cell_type": "code",
      "source": [
        "#realiza a predição e cria arquivo para submissão ao kaggle\n",
        "pipetotal.fit(X, y)\n",
        "ypred = pipetotal.predict(test)\n",
        "\n",
        "submission = pd.read_csv('/content/drive/MyDrive/datasets/gender_submission.csv')\n",
        "submission['Survived'] = ypred\n",
        "submission.to_csv('adaboost_submission.csv', index=False)"
      ],
      "metadata": {
        "id": "CRwX9vzNTOGc"
      },
      "execution_count": 81,
      "outputs": []
    },
    {
      "cell_type": "markdown",
      "source": [
        "Print da submissão do arquivo ao Kaggle"
      ],
      "metadata": {
        "id": "G-5jB1U0TSiG"
      }
    },
    {
      "cell_type": "markdown",
      "source": [
        "![image.png](data:image/png;base64,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)"
      ],
      "metadata": {
        "id": "nTWYCan5TS4t"
      }
    },
    {
      "cell_type": "markdown",
      "source": [
        "## Voting Classifiers"
      ],
      "metadata": {
        "id": "M_8LU8oHNYfz"
      }
    },
    {
      "cell_type": "code",
      "source": [
        "from sklearn.ensemble import VotingClassifier\n",
        "from sklearn.neighbors import KNeighborsClassifier\n",
        "from sklearn.tree import DecisionTreeClassifier\n",
        "from sklearn import svm"
      ],
      "metadata": {
        "id": "LgjmEcE6MeOl"
      },
      "execution_count": 82,
      "outputs": []
    },
    {
      "cell_type": "code",
      "source": [
        "pipetotal = Pipeline([\n",
        "    ('preproc', preproc),\n",
        "    ('voting', VotingClassifier([\n",
        "      ('knn', KNeighborsClassifier()),\n",
        "      ('svc', svm.SVC()),\n",
        "      ('dtc', DecisionTreeClassifier()),\n",
        "  ]))\n",
        "])\n",
        "\n",
        "pipetotal.fit(X, y)\n",
        "ypred = pipetotal.predict(X)\n",
        "accuracy_score(y, ypred)"
      ],
      "metadata": {
        "colab": {
          "base_uri": "https://localhost:8080/"
        },
        "id": "aTH-o697NwPV",
        "outputId": "39b38829-e9c8-4b90-f718-bdc2bcc1ba80"
      },
      "execution_count": 83,
      "outputs": [
        {
          "output_type": "execute_result",
          "data": {
            "text/plain": [
              "0.8855218855218855"
            ]
          },
          "metadata": {},
          "execution_count": 83
        }
      ]
    },
    {
      "cell_type": "code",
      "source": [
        "#avaliação do modelo com validação cruzada\n",
        "import numpy as np\n",
        "from sklearn.model_selection import cross_validate\n",
        "\n",
        "scores = cross_validate(pipetotal, X, y)\n",
        "scores, np.mean(scores['test_score'])"
      ],
      "metadata": {
        "colab": {
          "base_uri": "https://localhost:8080/"
        },
        "id": "qtRe-KgnO9Xx",
        "outputId": "31b843f5-6055-4458-bc08-74cee17f0e73"
      },
      "execution_count": 84,
      "outputs": [
        {
          "output_type": "execute_result",
          "data": {
            "text/plain": [
              "({'fit_time': array([0.05803204, 0.06307817, 0.05087948, 0.05988169, 0.05677915]),\n",
              "  'score_time': array([0.0836401 , 0.05026197, 0.04107022, 0.05892229, 0.05530477]),\n",
              "  'test_score': array([0.80446927, 0.79775281, 0.83707865, 0.80898876, 0.84831461])},\n",
              " 0.8193208210407381)"
            ]
          },
          "metadata": {},
          "execution_count": 84
        }
      ]
    },
    {
      "cell_type": "code",
      "source": [
        "#realiza a predição e cria arquivo para submissão ao kaggle\n",
        "pipetotal.fit(X, y)\n",
        "ypred = pipetotal.predict(test)\n",
        "\n",
        "submission = pd.read_csv('/content/drive/MyDrive/datasets/gender_submission.csv')\n",
        "submission['Survived'] = ypred\n",
        "submission.to_csv('voting_submission.csv', index=False)"
      ],
      "metadata": {
        "id": "OAjHyUMAPAGk"
      },
      "execution_count": 85,
      "outputs": []
    },
    {
      "cell_type": "markdown",
      "source": [
        "Print da submissão do arquivo ao Kaggle"
      ],
      "metadata": {
        "id": "TSFf0iDKPVJN"
      }
    },
    {
      "cell_type": "markdown",
      "source": [
        "![image.png](data:image/png;base64,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)"
      ],
      "metadata": {
        "id": "dDPlTCTiPVmD"
      }
    },
    {
      "cell_type": "markdown",
      "source": [
        "## Stack Classifiers"
      ],
      "metadata": {
        "id": "mh7mf0dkNmJV"
      }
    },
    {
      "cell_type": "code",
      "source": [
        "from sklearn.ensemble import StackingClassifier\n",
        "from sklearn.ensemble import ExtraTreesClassifier\n",
        "\n",
        "voting = VotingClassifier([\n",
        "    ('knn', KNeighborsClassifier()),\n",
        "    ('svc', svm.SVC()),\n",
        "    ('dtc', DecisionTreeClassifier()),\n",
        "])\n",
        "\n",
        "modelo = StackingClassifier([\n",
        "    ('voting', voting),\n",
        "    ('extrat', ExtraTreesClassifier()),\n",
        "    ('ranfor', RandomForestClassifier())\n",
        "], cv=3, passthrough=True)\n",
        "\n",
        "pipetotal = Pipeline([\n",
        "    ('preproc', preproc),\n",
        "    ('modelo', modelo)\n",
        "])\n",
        "\n",
        "pipetotal.fit(X, y)\n",
        "ypred = pipetotal.predict(X)\n",
        "accuracy_score(y, ypred)"
      ],
      "metadata": {
        "colab": {
          "base_uri": "https://localhost:8080/"
        },
        "id": "rp2eLaRoTxSc",
        "outputId": "bc6b33f7-e0c5-44c7-e041-71be058f86e8"
      },
      "execution_count": 86,
      "outputs": [
        {
          "output_type": "execute_result",
          "data": {
            "text/plain": [
              "0.8888888888888888"
            ]
          },
          "metadata": {},
          "execution_count": 86
        }
      ]
    },
    {
      "cell_type": "code",
      "source": [
        "#avaliação do modelo com validação cruzada\n",
        "import numpy as np\n",
        "from sklearn.model_selection import cross_validate\n",
        "\n",
        "scores = cross_validate(pipetotal, X, y)\n",
        "scores, np.mean(scores['test_score'])"
      ],
      "metadata": {
        "colab": {
          "base_uri": "https://localhost:8080/"
        },
        "id": "0ifJtOk8UZUy",
        "outputId": "5fceecc5-809b-4353-df76-652ba2b188e3"
      },
      "execution_count": 87,
      "outputs": [
        {
          "output_type": "execute_result",
          "data": {
            "text/plain": [
              "({'fit_time': array([2.11280775, 2.09596872, 2.65578604, 3.2203002 , 2.76583672]),\n",
              "  'score_time': array([0.05422711, 0.08199334, 0.23151875, 0.21269155, 0.05448961]),\n",
              "  'test_score': array([0.7877095 , 0.82022472, 0.82022472, 0.81460674, 0.83707865])},\n",
              " 0.8159688657334756)"
            ]
          },
          "metadata": {},
          "execution_count": 87
        }
      ]
    },
    {
      "cell_type": "code",
      "source": [
        "#realiza a predição e cria arquivo para submissão ao kaggle\n",
        "pipetotal.fit(X, y)\n",
        "ypred = pipetotal.predict(test)\n",
        "\n",
        "submission = pd.read_csv('/content/drive/MyDrive/datasets/gender_submission.csv')\n",
        "submission['Survived'] = ypred\n",
        "submission.to_csv('stacking_submission.csv', index=False)"
      ],
      "metadata": {
        "id": "ASwP4ZC8Ubpo"
      },
      "execution_count": 88,
      "outputs": []
    },
    {
      "cell_type": "markdown",
      "source": [
        "Print da submissão do arquivo ao Kaggle"
      ],
      "metadata": {
        "id": "uDGwhnqfUisr"
      }
    },
    {
      "cell_type": "markdown",
      "source": [
        "![image.png](data:image/png;base64,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)"
      ],
      "metadata": {
        "id": "ItrV96tbUjJP"
      }
    }
  ]
}